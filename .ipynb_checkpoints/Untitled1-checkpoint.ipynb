{
 "cells": [
  {
   "cell_type": "markdown",
   "id": "supposed-apartment",
   "metadata": {},
   "source": [
    "### Python script to check a number Even or Odd"
   ]
  },
  {
   "cell_type": "code",
   "execution_count": 8,
   "id": "funky-focus",
   "metadata": {},
   "outputs": [
    {
     "name": "stdout",
     "output_type": "stream",
     "text": [
      "Enter a number:4\n",
      "4 is Even\n"
     ]
    }
   ],
   "source": [
    "num = int(input(\"Enter a number:\"))\n",
    "if num%2 == 0:\n",
    "    print(f\"{num} is Even\")\n",
    "else:\n",
    "    print(f\"{num} is Odd\")"
   ]
  },
  {
   "cell_type": "markdown",
   "id": "noble-natural",
   "metadata": {},
   "source": [
    "### Python script to check leap year"
   ]
  },
  {
   "cell_type": "code",
   "execution_count": 25,
   "id": "unusual-prediction",
   "metadata": {},
   "outputs": [
    {
     "name": "stdout",
     "output_type": "stream",
     "text": [
      "Enter the year:2400\n",
      "2400 is a leap year\n"
     ]
    }
   ],
   "source": [
    "year = int(input(\"Enter the year:\"))\n",
    "\n",
    "if year%4 == 0:\n",
    "    if year%100 == 0:\n",
    "        if year%400 == 0:\n",
    "            print(f\"{year} is a leap year\")\n",
    "        else:\n",
    "            print(f\"{year} is not a leap year\")\n",
    "    else:\n",
    "        print(f\"{year} is leap year\")\n",
    "else:\n",
    "    print(f\"{year} is leap year\")"
   ]
  },
  {
   "cell_type": "markdown",
   "id": "eight-valley",
   "metadata": {},
   "source": [
    "### Python Script to add two numbers"
   ]
  },
  {
   "cell_type": "code",
   "execution_count": 29,
   "id": "plain-trading",
   "metadata": {},
   "outputs": [
    {
     "name": "stdout",
     "output_type": "stream",
     "text": [
      "Enter 1st number:104\n",
      "Enter 2nd number:203\n",
      "Sum: 307\n"
     ]
    }
   ],
   "source": [
    "a = int(input(\"Enter 1st number:\"))\n",
    "b = int(input(\"Enter 2nd number:\"))\n",
    "print(\"Sum:\",a+b)"
   ]
  },
  {
   "cell_type": "markdown",
   "id": "narrative-librarian",
   "metadata": {},
   "source": [
    "### Python script to remove duplicate from a list of strings"
   ]
  },
  {
   "cell_type": "code",
   "execution_count": 32,
   "id": "rolled-surveillance",
   "metadata": {},
   "outputs": [
    {
     "name": "stdout",
     "output_type": "stream",
     "text": [
      "['saurav', 'raju', 'roshan', 'ramesh']\n"
     ]
    }
   ],
   "source": [
    "lst = [\"saurav\",\"raju\",\"roshan\",\"saurav\",\"raju\",\"ramesh\"]\n",
    "result = []\n",
    "for i in lst:\n",
    "    if i not in result:\n",
    "        result.append(i)\n",
    "        \n",
    "print(result)"
   ]
  },
  {
   "cell_type": "markdown",
   "id": "authorized-doctrine",
   "metadata": {},
   "source": [
    "### Print first 10 natural numbers"
   ]
  },
  {
   "cell_type": "code",
   "execution_count": 33,
   "id": "acquired-security",
   "metadata": {},
   "outputs": [
    {
     "name": "stdout",
     "output_type": "stream",
     "text": [
      "1\n",
      "2\n",
      "3\n",
      "4\n",
      "5\n",
      "6\n",
      "7\n",
      "8\n",
      "9\n",
      "10\n"
     ]
    }
   ],
   "source": [
    "for i in range(1,11):\n",
    "    print(i)"
   ]
  },
  {
   "cell_type": "code",
   "execution_count": 35,
   "id": "fancy-prayer",
   "metadata": {},
   "outputs": [
    {
     "name": "stdout",
     "output_type": "stream",
     "text": [
      "1 2 3 4 5 6 7 8 9 10 "
     ]
    }
   ],
   "source": [
    "for i in range(1,11):\n",
    "    print(i,end=\" \")"
   ]
  },
  {
   "cell_type": "markdown",
   "id": "documented-serve",
   "metadata": {},
   "source": [
    "### Print first 10 natural numbers in reverse order"
   ]
  },
  {
   "cell_type": "code",
   "execution_count": 34,
   "id": "facial-ozone",
   "metadata": {},
   "outputs": [
    {
     "name": "stdout",
     "output_type": "stream",
     "text": [
      "10\n",
      "9\n",
      "8\n",
      "7\n",
      "6\n",
      "5\n",
      "4\n",
      "3\n",
      "2\n",
      "1\n"
     ]
    }
   ],
   "source": [
    "for i in range(10,0,-1):\n",
    "    print(i)"
   ]
  },
  {
   "cell_type": "code",
   "execution_count": 36,
   "id": "intensive-oregon",
   "metadata": {},
   "outputs": [
    {
     "name": "stdout",
     "output_type": "stream",
     "text": [
      "10 9 8 7 6 5 4 3 2 1 "
     ]
    }
   ],
   "source": [
    "for i in range(10,0,-1):\n",
    "    print(i,end=\" \")"
   ]
  },
  {
   "cell_type": "markdown",
   "id": "sunrise-darwin",
   "metadata": {},
   "source": [
    "### Python Script to reverse a tuple"
   ]
  },
  {
   "cell_type": "code",
   "execution_count": 38,
   "id": "tested-receptor",
   "metadata": {},
   "outputs": [
    {
     "name": "stdout",
     "output_type": "stream",
     "text": [
      "(6, 5, 4, 3, 2, 1)\n"
     ]
    }
   ],
   "source": [
    "tup = (1,2,3,4,5,6)\n",
    "print(tup[::-1])"
   ]
  },
  {
   "cell_type": "markdown",
   "id": "engaged-prayer",
   "metadata": {},
   "source": [
    "### Python script to print index of all occurrence of given element in a given list"
   ]
  },
  {
   "cell_type": "code",
   "execution_count": 46,
   "id": "comic-spokesman",
   "metadata": {},
   "outputs": [
    {
     "name": "stdout",
     "output_type": "stream",
     "text": [
      "Enter element in list1,2,1,3,1,4,2,1,1\n",
      "Enter the element to find index:1\n",
      "0 2 4 7 8 "
     ]
    }
   ],
   "source": [
    "lst = [x for x in eval(input(\"Enter element in list\"))]\n",
    "element = int(input(\"Enter the element to find index:\"))\n",
    "index = 0\n",
    "for i in range(len(lst)):\n",
    "    if element == lst[i]:\n",
    "        print(i,end=\" \")"
   ]
  },
  {
   "cell_type": "code",
   "execution_count": null,
   "id": "large-ridge",
   "metadata": {},
   "outputs": [],
   "source": []
  }
 ],
 "metadata": {
  "kernelspec": {
   "display_name": "Python 3",
   "language": "python",
   "name": "python3"
  },
  "language_info": {
   "codemirror_mode": {
    "name": "ipython",
    "version": 3
   },
   "file_extension": ".py",
   "mimetype": "text/x-python",
   "name": "python",
   "nbconvert_exporter": "python",
   "pygments_lexer": "ipython3",
   "version": "3.9.1"
  }
 },
 "nbformat": 4,
 "nbformat_minor": 5
}
